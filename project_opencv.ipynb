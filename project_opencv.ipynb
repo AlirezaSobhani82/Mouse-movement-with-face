{
 "cells": [
  {
   "metadata": {
    "ExecuteTime": {
     "end_time": "2025-07-22T09:14:45.461662Z",
     "start_time": "2025-07-22T09:14:44.767395Z"
    }
   },
   "cell_type": "code",
   "source": [
    "import cv2\n",
    "import matplotlib.pyplot as plt\n",
    "import pyautogui as robot"
   ],
   "id": "30445582-451a-4ddc-9be3-677707c762bf",
   "outputs": [],
   "execution_count": 1
  },
  {
   "metadata": {
    "ExecuteTime": {
     "end_time": "2025-07-21T22:54:28.597615Z",
     "start_time": "2025-07-21T22:54:28.558427Z"
    }
   },
   "cell_type": "code",
   "source": [
    "eye_model = cv2.CascadeClassifier(\"haarcascade_eye.xml\")\n",
    "face_model = cv2.CascadeClassifier(\"haarcascade_frontalface_default.xml\")"
   ],
   "id": "82abf617-5063-4594-8bfe-8a44abe932ee",
   "outputs": [],
   "execution_count": 2
  },
  {
   "cell_type": "code",
   "id": "22f9dc89-653f-4d33-8977-761e4d11b678",
   "metadata": {
    "scrolled": true,
    "ExecuteTime": {
     "end_time": "2025-07-21T22:54:35.726577Z",
     "start_time": "2025-07-21T22:54:28.958365Z"
    }
   },
   "source": [
    "loop = True\n",
    "cam = cv2.VideoCapture(0)\n",
    "while loop:\n",
    "    _, img = cam.read()\n",
    "    img = cv2.flip(img,1)\n",
    "    gray = cv2.cvtColor(img,cv2.COLOR_BGR2GRAY)\n",
    "    face = face_model.detectMultiScale(gray)\n",
    "    imgout = img.copy()\n",
    "    if len(face) > 0:\n",
    "        x = face[0][0]\n",
    "        y = face[0][1]\n",
    "        x2 = x + face[0][2]\n",
    "        y2 = y + face[0][3]\n",
    "        gray_face = gray[y:y2, x:x2]\n",
    "        #print(f\"X:{x},Y:{y}\")\n",
    "        eye = eye_model.detectMultiScale(gray_face, minSize=(30, 30), scaleFactor=1.1, minNeighbors=5)\n",
    "\n",
    "        out = cv2.rectangle(imgout, (x, y), (x2, y2), (0, 250, 0), 2)\n",
    "        white = (250,250,250)\n",
    "        red = (0,0,250)\n",
    "        range = white\n",
    "        \n",
    "        mouse_x = robot.position().x\n",
    "        mouse_y = robot.position().y\n",
    "\n",
    "        if y < 80:\n",
    "            range = red\n",
    "            mouse_y = mouse_y - abs(y-80)\n",
    "            robot.moveTo(mouse_x,mouse_y,0)\n",
    "\n",
    "        if y2 > 350:\n",
    "            range = red\n",
    "            mouse_y = mouse_y + abs(y2-350)\n",
    "            robot.moveTo(mouse_x,mouse_y,0)\n",
    "\n",
    "        if x < 200:\n",
    "            range = red\n",
    "            mouse_x = mouse_x - abs(x-200)\n",
    "            robot.moveTo(mouse_x,mouse_y,0)\n",
    "\n",
    "        if x2 > 450:\n",
    "            range = red\n",
    "            mouse_x = mouse_x + abs(x2-450)\n",
    "            robot.moveTo(mouse_x,mouse_y,0)\n",
    "\n",
    "        out = cv2.rectangle(imgout,(200,80),(450,350),range,2)\n",
    "\n",
    "        ic = 0\n",
    "        for (xe, ye, w, h) in eye:\n",
    "            ic += 1\n",
    "            cv2.rectangle(imgout, (xe + x, ye + y), (xe + w + x, ye + h + y), (0, 0, 250), 2)\n",
    "            if ic == 2:\n",
    "                break\n",
    "    else:\n",
    "        out = imgout\n",
    "    cv2.imshow(\"Alireza\", out)\n",
    "    if cv2.waitKey(1) == ord(\"q\"):\n",
    "        loop = False\n",
    "        cam.release()\n",
    "        cv2.destroyAllWindows()"
   ],
   "outputs": [],
   "execution_count": 3
  },
  {
   "cell_type": "markdown",
   "id": "75fdd0c8-e1a0-4123-b1e6-80ddf5a1184f",
   "metadata": {},
   "source": [

   ]
  },
  {
   "cell_type": "code",
   "execution_count": null,
   "id": "086cc96d-ec29-4113-94d4-41149d938093",
   "metadata": {},
   "outputs": [],
   "source": []
  }
 ],
 "metadata": {
  "kernelspec": {
   "display_name": "Python 3",
   "language": "python",
   "name": "python3"
  },
  "language_info": {
   "codemirror_mode": {
    "name": "ipython",
    "version": 3
   },
   "file_extension": ".py",
   "mimetype": "text/x-python",
   "name": "python",
   "nbconvert_exporter": "python",
   "pygments_lexer": "ipython3",
   "version": "3.13.2"
  }
 },
 "nbformat": 4,
 "nbformat_minor": 5
}
