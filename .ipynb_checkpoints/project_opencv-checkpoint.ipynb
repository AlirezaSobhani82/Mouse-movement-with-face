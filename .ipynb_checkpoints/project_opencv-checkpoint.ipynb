{
 "cells": [
  {
   "cell_type": "code",
   "execution_count": 1,
   "id": "30445582-451a-4ddc-9be3-677707c762bf",
   "metadata": {},
   "outputs": [],
   "source": [
    "import cv2"
   ]
  },
  {
   "cell_type": "code",
   "execution_count": 2,
   "id": "a549dc06-7502-4e13-afe0-5060fc8681b4",
   "metadata": {},
   "outputs": [],
   "source": [
    "cam = cv2.VideoCapture(1)"
   ]
  },
  {
   "cell_type": "code",
   "execution_count": 4,
   "id": "82abf617-5063-4594-8bfe-8a44abe932ee",
   "metadata": {},
   "outputs": [],
   "source": [
    "eye_model = cv2.CascadeClassifier(\"haarcascade_eye.xml\")\n",
    "face_model = cv2.CascadeClassifier(\"haarcascade_frontalface_default.xml\")"
   ]
  },
  {
   "cell_type": "code",
   "execution_count": null,
   "id": "22f9dc89-653f-4d33-8977-761e4d11b678",
   "metadata": {},
   "outputs": [],
   "source": [
    "loop = True\n",
    "while loop:\n",
    "    _, img = cam.read()\n",
    "    gray = cv2.cvtColor(img,cv2.COLOR_BAYER_BG2BGR)\n",
    "    face = face_model.detectMultiScale(gray)\n",
    "    x = face[0][0]\n",
    "    y = face[0][1]\n",
    "    x2 = x + face[0][2]\n",
    "    y2 = y + face[0][3]\n",
    "    gray_face = gray[y:y2,x:x2]\n",
    "    eye = face_model.detectMultiScale(gray_face,minSize=(30,30),scaleFactor=1.1,minNeighbors=5)\n",
    "    imgout = img.copy()"
   ]
  }
 ],
 "metadata": {
  "kernelspec": {
   "display_name": "Python 3 (ipykernel)",
   "language": "python",
   "name": "python3"
  },
  "language_info": {
   "codemirror_mode": {
    "name": "ipython",
    "version": 3
   },
   "file_extension": ".py",
   "mimetype": "text/x-python",
   "name": "python",
   "nbconvert_exporter": "python",
   "pygments_lexer": "ipython3",
   "version": "3.13.2"
  }
 },
 "nbformat": 4,
 "nbformat_minor": 5
}
